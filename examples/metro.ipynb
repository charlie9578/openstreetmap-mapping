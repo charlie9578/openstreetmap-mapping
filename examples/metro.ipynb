{
 "cells": [
  {
   "cell_type": "markdown",
   "id": "87413b1d",
   "metadata": {},
   "source": [
    "# Metro's of the world\n",
    "\n",
    "This notebook has a few examples of pulling Metro (Underground/Subway) networks from OpenStreetMap (OSM) and plotting them in Bokeh plots. The idea is to produce something interactive and fun to play with. In the future I might try combining the metros in a single plot for comparisons, e.g. size, stops, lines etc. For example like [this](https://www.google.com/url?sa=i&url=https%3A%2F%2Fsoranews24.com%2F2015%2F03%2F23%2Fwe-finns-just-like-it-simple-net-users-cant-get-enough-of-helsinki-metro-map%2F&psig=AOvVaw1j5fY74y3ffxBZ4UK0NaJs&ust=1628545765978000&source=images&cd=vfe&ved=0CAoQjRxqFwoTCODVjfWzovICFQAAAAAdAAAAABAD])\n",
    "\n",
    "The code is not standardised, and I've tried a few different ways of getting the required data from OSM. For example creating a bounding box (area) and extracting subway tags, or alternatively, selecting the Metro relationship for the network and then pulling data from its members. The second approach is slower to run, but is generally more comprehensive, however, stations and lines are then a single colour and repeated for other lines on the network, rather than being combined into a single station or track.\n",
    "\n",
    "As well as standardising a little, e.g. turning into functions, it would be good to seperate out the data, so that each metro is stored separately, rather than overwriting, making it easier to combine at a later stage."
   ]
  },
  {
   "cell_type": "markdown",
   "id": "dc26f5de",
   "metadata": {},
   "source": [
    "## Setup\n",
    "\n",
    "Import libraries and standard tools used"
   ]
  },
  {
   "cell_type": "code",
   "execution_count": null,
   "id": "9627621e",
   "metadata": {},
   "outputs": [],
   "source": [
    "import os\n",
    "import requests\n",
    "import json\n",
    "\n",
    "import openstreetmap_mapping as osm\n",
    "\n",
    "import pandas as pd\n",
    "\n",
    "from bokeh.plotting import show, output_file\n",
    "from bokeh.io import output_notebook\n",
    "\n",
    "from bokeh.plotting import figure\n",
    "from bokeh.models import WMTSTileSource, ColumnDataSource\n",
    "from bokeh.models import HoverTool\n",
    "\n",
    "from pyproj import Transformer\n",
    "\n",
    "output_notebook()"
   ]
  },
  {
   "cell_type": "code",
   "execution_count": null,
   "id": "078bd2ff",
   "metadata": {},
   "outputs": [],
   "source": [
    "%load_ext autoreload\n",
    "%autoreload 2"
   ]
  },
  {
   "cell_type": "code",
   "execution_count": null,
   "id": "b5ca8237",
   "metadata": {},
   "outputs": [],
   "source": [
    "area_Glasgow = \"(55.82, -4.34, 55.9, -4.22)\"\n",
    "area_London = \"(51.3426, -0.5527, 51.6726, 0.1929)\"\n",
    "area_Moscow = \"(55.503, 37.0789,56.003, 38.1871)\"\n",
    "area_Budapest = \"(47.4439, 18.9315, 47.5851, 19.1711)\"\n",
    "area_Paris = \"(48.744, 2.1265, 49.0316, 2.6099)\""
   ]
  },
  {
   "cell_type": "code",
   "execution_count": null,
   "id": "2e8a9ccf",
   "metadata": {},
   "outputs": [],
   "source": [
    "MAP_TILES = {\"OpenMap\": WMTSTileSource(url=\"http://c.tile.openstreetmap.org/{Z}/{X}/{Y}.png\"),\n",
    "         \"ESRI\": WMTSTileSource(url=\"https://server.arcgisonline.com/ArcGIS/rest/services/World_Imagery/MapServer/tile/{Z}/{Y}/{X}.jpg\"),\n",
    "         \"OpenTopoMap\": WMTSTileSource(url=\"https://tile.opentopomap.org/{Z}/{X}/{Y}.png\")}"
   ]
  },
  {
   "cell_type": "code",
   "execution_count": null,
   "id": "8118f2ec",
   "metadata": {},
   "outputs": [],
   "source": [
    "# Use pyproj to transform longitude and latitude into web-mercator and add to a copy of the asset dataframe\n",
    "TRANSFORM_4326_TO_3857 = Transformer.from_crs(\"EPSG:4326\", \"EPSG:3857\")\n",
    " "
   ]
  },
  {
   "cell_type": "code",
   "execution_count": null,
   "id": "701c6977",
   "metadata": {},
   "outputs": [],
   "source": [
    "# Place to save data so that the number of OSM requests are reduced when re-loading the same data\n",
    "path_save = r\"data/metro/\"\n",
    "\n",
    "if not os.path.exists(path_save):\n",
    "    os.makedirs(path_save)\n",
    "    "
   ]
  },
  {
   "cell_type": "code",
   "execution_count": null,
   "id": "66a52b5f",
   "metadata": {},
   "outputs": [],
   "source": [
    "def load_metro(member_id=10713004,path_save=r\"data/metro/\",name=\"paris\"):\n",
    "\n",
    "    # load the whole metro relation\n",
    "    if os.path.isfile(path_save+\"df_\"+name+\"_metro.pkl\"):\n",
    "        df_paris_metro = pd.read_pickle(path_save+\"df_\"+name+\"_metro.pkl\")\n",
    "    else:\n",
    "        df_paris_metro = osm.toolkit.get_osm_data_by_id(member_id=member_id,obj_type=\"rel\")\n",
    "        df_paris_metro.to_pickle(path_save+\"df_\"+name+\"_metro.pkl\")\n",
    "\n",
    "        \n",
    "    # load the metro map\n",
    "    if os.path.isfile(path_save+\"df_\"+name+\"_railways.pkl\"):\n",
    "        df_paris_railways = pd.read_pickle(path_save+\"df_\"+name+\"_railways.pkl\")\n",
    "    else:\n",
    "        df_paris_railways = pd.DataFrame(columns=[\"id\"])\n",
    "\n",
    "        \n",
    "    # load the lines and underlying members\n",
    "    df_paris_metro_lines = pd.DataFrame.from_records(df_paris_metro[\"members\"][0])\n",
    "\n",
    "    for metro_line_id in df_paris_metro_lines[\"ref\"]:\n",
    "\n",
    "        if metro_line_id not in df_paris_railways['id'].values:\n",
    "        \n",
    "            #print(\"line_id \" + str(metro_line_id))\n",
    "\n",
    "            df_metro_line = osm.toolkit.get_osm_data_by_id(member_id=metro_line_id,obj_type=\"rel\")\n",
    "\n",
    "            df_metro_routes = pd.DataFrame.from_records(df_metro_line[\"members\"][0])\n",
    "\n",
    "            for route in df_metro_routes[\"ref\"]:\n",
    "\n",
    "                #print(route)\n",
    "\n",
    "                if route not in df_paris_railways[\"id\"].values:\n",
    "\n",
    "                    #print(route)\n",
    "\n",
    "                    df_metro_route = osm.toolkit.get_osm_data_by_id(member_id=route,obj_type=\"rel\",output=\"geom\")\n",
    "\n",
    "                    if not df_metro_route.empty:\n",
    "\n",
    "                        members = pd.DataFrame.from_records(df_metro_route.iloc[0][\"members\"])\n",
    "                        rails = members[members[\"role\"]==\"\"]\n",
    "                        stations = members[members[\"role\"]==\"station\"]\n",
    "                        stops = members[(members['role']==\"stop\")\n",
    "                                        | (members['role']==\"stop_entry_only\")\n",
    "                                        | (members['role']==\"stop_exit_only\")]\n",
    "\n",
    "                        if not rails.empty:            \n",
    "                            df_metro_route[\"rails\"] = [rails[\"geometry\"]]\n",
    "\n",
    "                        if not stations.empty:\n",
    "                            df_metro_route[\"stations\"] = [stations[[\"ref\",\"lat\",\"lon\"]]]\n",
    "\n",
    "                        if not stops.empty:\n",
    "                            stop_ids = str(list(stops[\"ref\"])).replace(\"[\",\"\").replace(\"]\",\"\")\n",
    "\n",
    "                            stops_info = osm.toolkit.get_osm_data_by_id(member_id=\"id:\"+stop_ids,obj_type=\"node\")  \n",
    "\n",
    "                            df_metro_route[\"stops\"] = [stops_info]\n",
    "\n",
    "                        df_paris_railways = pd.concat([df_paris_railways,df_metro_route])\n",
    "\n",
    "                        df_paris_railways.to_pickle(path_save+\"df_\"+name+\"_railways.pkl\")\n",
    "                    \n",
    "    return df_paris_railways\n"
   ]
  },
  {
   "cell_type": "code",
   "execution_count": null,
   "id": "78282767",
   "metadata": {},
   "outputs": [],
   "source": [
    "def create_metro_map(df_railways,output_file_name=\"Paris_metro.html\"):\n",
    "    \n",
    "    # create a plot of the subway system    \n",
    "    output_file(output_file_name)\n",
    "\n",
    "    p = figure(plot_width=800, plot_height=800,\n",
    "                        x_axis_type=\"mercator\", y_axis_type=\"mercator\")\n",
    "\n",
    "    p.add_tile(MAP_TILES['ESRI'])\n",
    "\n",
    "    tooltips = [(\"id\", \"@id\"),\n",
    "                (\"name\", \"@name\"),\n",
    "                (\"line\", \"@line\"),\n",
    "                (\"network\", \"@network\"),\n",
    "                (\"operator\", \"@operator\"),\n",
    "                (\"(lat,lon)\", \"@coordinates\")]\n",
    "\n",
    "    stations = list()\n",
    "\n",
    "    # plot the railway lines    \n",
    "    for cnt,line in df_railways.iterrows():\n",
    "\n",
    "        #print(line['name'])\n",
    "\n",
    "        xx = list()\n",
    "        yy = list()\n",
    "\n",
    "        for way in line['rails'].dropna():\n",
    "\n",
    "\n",
    "            xxx,yyy = TRANSFORM_4326_TO_3857.transform(list(pd.DataFrame.from_records(way)['lat']),\n",
    "                                                     list(pd.DataFrame.from_records(way)['lon']))\n",
    "\n",
    "            xx.append(xxx)\n",
    "            yy.append(yyy)\n",
    "\n",
    "\n",
    "        source = ColumnDataSource({'xs':xx,'ys':yy})\n",
    "\n",
    "        p.multi_line('xs',\n",
    "               'ys',\n",
    "               source=source,\n",
    "               line_width=2,\n",
    "               legend_label=line['short_name'],\n",
    "               line_color = line['colour'],\n",
    "              )\n",
    "\n",
    "\n",
    "        line['stops']['xs'],line['stops']['ys'] = TRANSFORM_4326_TO_3857.transform(list(line['stops']['lat']),\n",
    "                                                     list(line['stops']['lon']))\n",
    "\n",
    "        line['stops']['coordinates'] = tuple(zip(line['stops'][\"lat\"],line['stops'][\"lon\"]))\n",
    "\n",
    "        line['stops']['line'] = line['short_name']\n",
    "        line['stops']['network'] = line['network']\n",
    "        line['stops']['operator'] = line['operator']\n",
    "\n",
    "        source = ColumnDataSource(line['stops'])\n",
    "\n",
    "        station = p.circle(x=\"xs\", y=\"ys\",\n",
    "                                source=source,\n",
    "                                radius=100,\n",
    "                                line_width=1,\n",
    "                                fill_color = line['colour'],\n",
    "                                line_color = 'white',\n",
    "                                legend_label=line['short_name']\n",
    "                                )\n",
    "\n",
    "\n",
    "        stations.append(station)\n",
    "\n",
    "\n",
    "    p.add_tools(HoverTool(tooltips=tooltips, renderers=stations))\n",
    "\n",
    "    p.legend.click_policy=\"hide\"\n",
    "\n",
    "\n",
    "    show(p)    \n",
    "    \n",
    "    return p"
   ]
  },
  {
   "cell_type": "markdown",
   "id": "377c7981",
   "metadata": {},
   "source": [
    "## Glasgow's Clockwork Orange"
   ]
  },
  {
   "cell_type": "markdown",
   "id": "daf59d7a",
   "metadata": {},
   "source": [
    "## Moscow Metro"
   ]
  },
  {
   "cell_type": "code",
   "execution_count": null,
   "id": "c0900efd",
   "metadata": {},
   "outputs": [],
   "source": [
    "df_moscow_railways = load_metro(member_id=xxx,path_save=r\"data/metro/\",name=\"moscow\")"
   ]
  },
  {
   "cell_type": "code",
   "execution_count": null,
   "id": "7d6fcd45",
   "metadata": {},
   "outputs": [],
   "source": [
    "moscow_metro_map = create_metro_map(df_railways=df_moscow_railways,output_file_name=\"Moscow_metro.html\")"
   ]
  },
  {
   "cell_type": "markdown",
   "id": "5d099a26",
   "metadata": {},
   "source": [
    "## Budapest Metro"
   ]
  },
  {
   "cell_type": "code",
   "execution_count": null,
   "id": "e2e66db3",
   "metadata": {},
   "outputs": [],
   "source": [
    "df_budapest_railways = load_metro(member_id=xxx,path_save=r\"data/metro/\",name=\"budapest\")"
   ]
  },
  {
   "cell_type": "code",
   "execution_count": null,
   "id": "200dfdd2",
   "metadata": {},
   "outputs": [],
   "source": [
    "budapest_metro_map = create_metro_map(df_railways=df_budapest_railways,output_file_name=\"Budapest_metro.html\")"
   ]
  },
  {
   "cell_type": "markdown",
   "id": "6841a42d",
   "metadata": {},
   "source": [
    "## Paris Metro"
   ]
  },
  {
   "cell_type": "code",
   "execution_count": null,
   "id": "03915c92",
   "metadata": {},
   "outputs": [],
   "source": [
    "df_paris_railways = load_metro(member_id=10713004,path_save=r\"data/metro/\",name=\"paris\")"
   ]
  },
  {
   "cell_type": "code",
   "execution_count": null,
   "id": "1c638f69",
   "metadata": {},
   "outputs": [],
   "source": [
    "paris_metro_map = create_metro_map(df_railways=df_paris_railways,output_file_name=\"Paris_metro.html\")"
   ]
  },
  {
   "cell_type": "markdown",
   "id": "6909d55b",
   "metadata": {},
   "source": [
    "## London Underground\n",
    "\n",
    "Using relatives rather than line tags"
   ]
  },
  {
   "cell_type": "code",
   "execution_count": null,
   "id": "5e2a92f2",
   "metadata": {},
   "outputs": [],
   "source": [
    "df_london_railways = load_metro(member_id=7225135,path_save=r\"data/metro/\",name=\"london\")"
   ]
  },
  {
   "cell_type": "code",
   "execution_count": null,
   "id": "cc93c324",
   "metadata": {},
   "outputs": [],
   "source": [
    "df_london_railways['short_name']=df_london_railways['name'].str.split(\":\",expand=True)[0]"
   ]
  },
  {
   "cell_type": "code",
   "execution_count": null,
   "id": "c816c7e1",
   "metadata": {},
   "outputs": [],
   "source": [
    "london_metro_map = create_metro_map(df_railways=df_london_railways,output_file_name=\"London_metro.html\")"
   ]
  },
  {
   "cell_type": "code",
   "execution_count": null,
   "id": "113ae4be",
   "metadata": {},
   "outputs": [],
   "source": [
    "df_railways = pd.DataFrame()\n",
    "\n",
    "df_metro = osm.toolkit.get_osm_data_by_id(member_id=7225135,obj_type=\"rel\") #London metro OSM ID 7225135\n",
    "\n",
    "df_metro_lines = pd.DataFrame.from_records(df_metro['members'][0])\n",
    "\n",
    "for metro_line_id in df_metro_lines['ref']:\n",
    "    \n",
    "    #print(metro_line_id)\n",
    "    \n",
    "    df_metro_line = osm.toolkit.get_osm_data_by_id(member_id=metro_line_id,obj_type=\"rel\")\n",
    "    \n",
    "    #print(df_metro_line.iloc[0]['name'])\n",
    "    \n",
    "    df_metro_routes = pd.DataFrame.from_records(df_metro_line['members'][0])\n",
    "    \n",
    "    for route in df_metro_routes['ref']:\n",
    "        \n",
    "        df_metro_route = osm.toolkit.get_osm_data_by_id(member_id=route,obj_type=\"rel\",output=\"geom\")\n",
    "    \n",
    "        if not df_metro_route.empty:\n",
    "            \n",
    "            members = pd.DataFrame.from_records(df_metro_route.iloc[0]['members'])\n",
    "            rails = members[members['role']==\"\"]\n",
    "            stations = members[members['role']==\"station\"]\n",
    "            stops = members[(members['role']==\"stop\") | (members['role']==\"stop_entry_only\") | (members['role']==\"stop_exit_only\")]\n",
    "\n",
    "            if not rails.empty:            \n",
    "                df_metro_route['rails'] = [rails['geometry']]\n",
    "\n",
    "            if not stations.empty:\n",
    "                df_metro_route['stations'] = [stations[['ref','lat','lon']]]\n",
    "\n",
    "            if not stops.empty:\n",
    "                stop_ids = str(list(stops['ref'])).replace('[','').replace(']','')\n",
    "                stops_info = osm.toolkit.get_osm_data_by_id(member_id=\"id:\"+stop_ids,obj_type=\"node\")  \n",
    "                df_metro_route['stops'] = [stops_info]\n",
    "\n",
    "            df_railways = pd.concat([df_railways,df_metro_route])\n",
    "        \n",
    "        #print(df_railways)\n",
    "    "
   ]
  },
  {
   "cell_type": "markdown",
   "id": "4722ecd7",
   "metadata": {},
   "source": [
    "## New York Metro"
   ]
  },
  {
   "cell_type": "code",
   "execution_count": null,
   "id": "fa2b8d6f",
   "metadata": {},
   "outputs": [],
   "source": [
    "df_newyork_railways = load_metro(member_id=2621040,path_save=r\"data/metro/\",name=\"newyork\")"
   ]
  },
  {
   "cell_type": "code",
   "execution_count": null,
   "id": "c685148c",
   "metadata": {},
   "outputs": [],
   "source": [
    "df_newyork_railways.columns"
   ]
  },
  {
   "cell_type": "code",
   "execution_count": null,
   "id": "cb3b6f59",
   "metadata": {},
   "outputs": [],
   "source": [
    "df_newyork_railways['name']"
   ]
  },
  {
   "cell_type": "code",
   "execution_count": null,
   "id": "28569dd0",
   "metadata": {},
   "outputs": [],
   "source": [
    "df_newyork_railways['short_name']=df_newyork_railways['name'].str.split(\":\",expand=True)[0]"
   ]
  },
  {
   "cell_type": "code",
   "execution_count": null,
   "id": "31546616",
   "metadata": {},
   "outputs": [],
   "source": [
    "newyork_metro_map = create_metro_map(df_railways=df_newyork_railways,output_file_name=\"NewYork_metro.html\")"
   ]
  },
  {
   "cell_type": "code",
   "execution_count": null,
   "id": "bb99b9d6",
   "metadata": {},
   "outputs": [],
   "source": []
  },
  {
   "cell_type": "code",
   "execution_count": null,
   "id": "12d1b61b",
   "metadata": {},
   "outputs": [],
   "source": [
    "moscow_metro_data = osm.toolkit.get_osm_data(key=\"network\",tag=\"Московский метрополитен\",area=area_Moscow,output=\"center\")"
   ]
  },
  {
   "cell_type": "code",
   "execution_count": null,
   "id": "d5743467",
   "metadata": {},
   "outputs": [],
   "source": [
    "moscow_metro_data.columns"
   ]
  },
  {
   "cell_type": "code",
   "execution_count": null,
   "id": "2b3086f5",
   "metadata": {},
   "outputs": [],
   "source": [
    "set(moscow_metro_data['type'])"
   ]
  },
  {
   "cell_type": "code",
   "execution_count": null,
   "id": "24f551b0",
   "metadata": {},
   "outputs": [],
   "source": [
    "moscow_metro_data"
   ]
  },
  {
   "cell_type": "code",
   "execution_count": null,
   "id": "bc55004f",
   "metadata": {},
   "outputs": [],
   "source": [
    "key = \"railway\"\n",
    "tag = \"subway\"\n",
    "area = area_Moscow\n",
    "recursion = \"\"\n",
    "output = \"geom\"\n",
    "\n",
    "\n",
    "overpass_query = \"\"\"\n",
    "    [out:json];\n",
    "    (\n",
    "    way[\\\"\"\"\"+str(key)+\"\"\"\\\"=\\\"\"\"\"+str(tag)+\"\"\"\\\"]\"\"\"+area+\"\"\";\n",
    "    \"\"\"+recursion+\"\"\"\n",
    "    );\n",
    "    out \"\"\"+output+\"\"\";\n",
    "    \"\"\" \n",
    "\n",
    "data = osm.toolkit.osm_overpass_query(overpass_query)"
   ]
  },
  {
   "cell_type": "code",
   "execution_count": null,
   "id": "cd14c0a6",
   "metadata": {},
   "outputs": [],
   "source": [
    "data"
   ]
  },
  {
   "cell_type": "code",
   "execution_count": null,
   "id": "30a09997",
   "metadata": {},
   "outputs": [],
   "source": []
  }
 ],
 "metadata": {
  "kernelspec": {
   "display_name": "Python 3 (ipykernel)",
   "language": "python",
   "name": "python3"
  },
  "language_info": {
   "codemirror_mode": {
    "name": "ipython",
    "version": 3
   },
   "file_extension": ".py",
   "mimetype": "text/x-python",
   "name": "python",
   "nbconvert_exporter": "python",
   "pygments_lexer": "ipython3",
   "version": "3.8.10"
  }
 },
 "nbformat": 4,
 "nbformat_minor": 5
}
