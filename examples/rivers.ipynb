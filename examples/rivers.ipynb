{
 "cells": [
  {
   "cell_type": "markdown",
   "id": "87413b1d",
   "metadata": {},
   "source": [
    "# Rivers of the world\n",
    "\n",
    "This notebook pulls river data from OpenStreetMap (OSM) and plots them in Bokeh plots. The idea is to produce something interactive and fun to play with. \n",
    "\n",
    "In the future I might try something like [this](https://www.smithsonianmag.com/arts-culture/these-beautiful-maps-capture-rivers-that-pulse-through-our-world-180971789/)\n",
    "\n",
    "Perhaps to avoid overloading the OverpassAPI could run it locally: https://github.com/mediasuitenz/docker-overpass-api"
   ]
  },
  {
   "cell_type": "markdown",
   "id": "dc26f5de",
   "metadata": {},
   "source": [
    "## Setup\n",
    "\n",
    "Import libraries and standard tools used"
   ]
  },
  {
   "cell_type": "code",
   "execution_count": null,
   "id": "9627621e",
   "metadata": {},
   "outputs": [],
   "source": [
    "import os\n",
    "import requests\n",
    "import json\n",
    "\n",
    "import openstreetmap_mapping as osm\n",
    "\n",
    "import pandas as pd\n",
    "\n",
    "from bokeh.plotting import show, output_file\n",
    "from bokeh.io import output_notebook\n",
    "\n",
    "from bokeh.plotting import figure\n",
    "from bokeh.models import WMTSTileSource, ColumnDataSource\n",
    "from bokeh.models import HoverTool\n",
    "from bokeh.layouts import gridplot\n",
    "from bokeh.models import Range1d\n",
    "from bokeh.palettes import viridis, Category20\n",
    "\n",
    "from pyproj import Transformer\n",
    "\n",
    "output_notebook()"
   ]
  },
  {
   "cell_type": "code",
   "execution_count": null,
   "id": "078bd2ff",
   "metadata": {},
   "outputs": [],
   "source": [
    "%load_ext autoreload\n",
    "%autoreload 2"
   ]
  },
  {
   "cell_type": "code",
   "execution_count": null,
   "id": "b5ca8237",
   "metadata": {},
   "outputs": [],
   "source": [
    "area_UK = \"(49.325, -11.25, 59.356, 1.45)\""
   ]
  },
  {
   "cell_type": "code",
   "execution_count": null,
   "id": "2e8a9ccf",
   "metadata": {},
   "outputs": [],
   "source": [
    "MAP_TILES = {\"OpenMap\": WMTSTileSource(url=\"http://c.tile.openstreetmap.org/{Z}/{X}/{Y}.png\"),\n",
    "         \"ESRI\": WMTSTileSource(url=\"https://server.arcgisonline.com/ArcGIS/rest/services/World_Imagery/MapServer/tile/{Z}/{Y}/{X}.jpg\"),\n",
    "         \"OpenTopoMap\": WMTSTileSource(url=\"https://tile.opentopomap.org/{Z}/{X}/{Y}.png\")}"
   ]
  },
  {
   "cell_type": "code",
   "execution_count": null,
   "id": "8118f2ec",
   "metadata": {},
   "outputs": [],
   "source": [
    "# Use pyproj to transform longitude and latitude into web-mercator and add to a copy of the asset dataframe\n",
    "TRANSFORM_4326_TO_3857 = Transformer.from_crs(\"EPSG:4326\", \"EPSG:3857\")\n",
    "TRANSFORM_3857_TO_4326 = Transformer.from_crs(\"EPSG:3857\", \"EPSG:4326\")\n",
    " "
   ]
  },
  {
   "cell_type": "code",
   "execution_count": null,
   "id": "701c6977",
   "metadata": {},
   "outputs": [],
   "source": [
    "# Place to save data so that the number of OSM requests are reduced when re-loading the same data\n",
    "path_save = r\"data/rivers/\"\n",
    "\n",
    "if not os.path.exists(path_save):\n",
    "    os.makedirs(path_save)\n",
    "    "
   ]
  },
  {
   "cell_type": "code",
   "execution_count": null,
   "id": "2ca33f14",
   "metadata": {},
   "outputs": [],
   "source": [
    "def get_rivers(area=\"(55.503, 37.0789,56.003, 38.1871)\"):\n",
    "\n",
    "    key = \"waterway\"\n",
    "    tag = \"river\"\n",
    "    recursion = \"\"\n",
    "    output = \"geom\"\n",
    "\n",
    "    data = osm.toolkit.get_osm_data(key=key,\n",
    "                                    tag=tag,\n",
    "                                    area=area,\n",
    "                                    output=\"geom\",\n",
    "                                    recursion=\"\",\n",
    "                                    element=\"way\")\n",
    "    \n",
    "    return data"
   ]
  },
  {
   "cell_type": "code",
   "execution_count": null,
   "id": "633058ef",
   "metadata": {},
   "outputs": [],
   "source": [
    "def get_data(area,name):\n",
    "    file_name = path_save+name+\"_data.pkl\"\n",
    "\n",
    "    if os.path.isfile(file_name):\n",
    "        df_metro = pd.read_pickle(file_name)\n",
    "    else:\n",
    "        df_metro = get_rivers(area)\n",
    "        df_metro.to_pickle(file_name)\n",
    "        \n",
    "    return df_metro\n"
   ]
  },
  {
   "cell_type": "code",
   "execution_count": null,
   "id": "f0d2e332",
   "metadata": {},
   "outputs": [],
   "source": [
    "def plot_rivers(data,line_color='color'):\n",
    "\n",
    "    p = figure(plot_width=800, plot_height=800,\n",
    "              x_axis_type=\"mercator\", y_axis_type=\"mercator\",\n",
    "              match_aspect=True)\n",
    "\n",
    "    #p.add_tile(MAP_TILES['ESRI'])\n",
    "\n",
    "    tooltips = [(\"id\", \"@id\"),\n",
    "                (\"name\", \"@name\"),\n",
    "                (\"line\", \"@line\"),\n",
    "                (\"network\", \"@network\"),\n",
    "                (\"operator\", \"@operator\"),\n",
    "                (\"(lat,lon)\", \"@coordinates\")]\n",
    "\n",
    "    xx = list()\n",
    "    yy = list()\n",
    "    names = list()\n",
    "    colors = list()\n",
    "    for cnt,way in data.iterrows():\n",
    "\n",
    "\n",
    "        xxx,yyy = TRANSFORM_4326_TO_3857.transform(list(pd.DataFrame.from_records(way['geometry'])['lat']),\n",
    "                                                 list(pd.DataFrame.from_records(way['geometry'])['lon']))\n",
    "\n",
    "        xx.append(xxx)\n",
    "        yy.append(yyy)\n",
    "        names.append(way['name'])\n",
    "        colors.append(way['color'])\n",
    "\n",
    "\n",
    "    source = ColumnDataSource({'xs':xx,'ys':yy,'color':colors})\n",
    "\n",
    "    p.multi_line('xs',\n",
    "                 'ys',\n",
    "                 source=source,\n",
    "                 line_width=2,\n",
    "                 line_color='color',\n",
    "          )\n",
    "\n",
    "    p.xaxis.visible = False\n",
    "    p.xgrid.visible = False\n",
    "    \n",
    "    p.yaxis.visible = False\n",
    "    p.ygrid.visible = False\n",
    "            \n",
    "    return p"
   ]
  },
  {
   "cell_type": "markdown",
   "id": "377c7981",
   "metadata": {},
   "source": [
    "## UK red rivers"
   ]
  },
  {
   "cell_type": "code",
   "execution_count": null,
   "id": "8b96bece",
   "metadata": {},
   "outputs": [],
   "source": [
    "data = get_data(area_UK,\"UK\")"
   ]
  },
  {
   "cell_type": "code",
   "execution_count": null,
   "id": "71cf3190",
   "metadata": {},
   "outputs": [],
   "source": [
    "data['color'] = 'red'"
   ]
  },
  {
   "cell_type": "code",
   "execution_count": null,
   "id": "c00bdb9a",
   "metadata": {},
   "outputs": [],
   "source": [
    "uk = plot_rivers(data)"
   ]
  },
  {
   "cell_type": "code",
   "execution_count": null,
   "id": "85819083",
   "metadata": {},
   "outputs": [],
   "source": [
    "uk.background_fill_color = \"black\""
   ]
  },
  {
   "cell_type": "code",
   "execution_count": null,
   "id": "aa5fd58d",
   "metadata": {},
   "outputs": [],
   "source": [
    "show(uk)"
   ]
  },
  {
   "cell_type": "markdown",
   "id": "6e3ba6e0",
   "metadata": {},
   "source": [
    "## UK rivers coloured by name"
   ]
  },
  {
   "cell_type": "code",
   "execution_count": null,
   "id": "09b7f499",
   "metadata": {},
   "outputs": [],
   "source": [
    "data = data.dropna(subset=['name'])\n",
    "\n",
    "names = set(data['name'].dropna())\n",
    "\n",
    "color_palette = list()\n",
    "for i in range(len(names)):\n",
    "    color_palette.append(Category20[20][i%20])\n",
    "\n",
    "color_mapping = dict(zip(names,color_palette))\n",
    "\n",
    "data[\"color\"] = data['name'].map(color_mapping)\n"
   ]
  },
  {
   "cell_type": "code",
   "execution_count": null,
   "id": "6d202fbe",
   "metadata": {},
   "outputs": [],
   "source": [
    "uk_colors = plot_rivers(data)"
   ]
  },
  {
   "cell_type": "code",
   "execution_count": null,
   "id": "c717b6ad",
   "metadata": {},
   "outputs": [],
   "source": [
    "show(uk_colors)"
   ]
  },
  {
   "cell_type": "markdown",
   "id": "2ed55033",
   "metadata": {},
   "source": [
    "## All together now"
   ]
  },
  {
   "cell_type": "code",
   "execution_count": null,
   "id": "87880597",
   "metadata": {},
   "outputs": [],
   "source": [
    "#output_file(\"world_rivers.html\")\n",
    "\n",
    "# make a grid\n",
    "#grid = gridplot([[uk, uk, uk], [uk, uk, uk]], plot_width=250, plot_height=250)\n",
    "\n",
    "#show(grid)"
   ]
  },
  {
   "cell_type": "code",
   "execution_count": null,
   "id": "cd1fccf0",
   "metadata": {},
   "outputs": [],
   "source": []
  },
  {
   "cell_type": "code",
   "execution_count": null,
   "id": "be11e7e2",
   "metadata": {},
   "outputs": [],
   "source": []
  }
 ],
 "metadata": {
  "kernelspec": {
   "display_name": "Python 3 (ipykernel)",
   "language": "python",
   "name": "python3"
  },
  "language_info": {
   "codemirror_mode": {
    "name": "ipython",
    "version": 3
   },
   "file_extension": ".py",
   "mimetype": "text/x-python",
   "name": "python",
   "nbconvert_exporter": "python",
   "pygments_lexer": "ipython3",
   "version": "3.8.10"
  }
 },
 "nbformat": 4,
 "nbformat_minor": 5
}
